{
  "nbformat": 4,
  "nbformat_minor": 0,
  "metadata": {
    "colab": {
      "name": "cnn_cifar10.ipynb",
      "version": "0.3.2",
      "provenance": [],
      "collapsed_sections": []
    },
    "kernelspec": {
      "name": "python3",
      "display_name": "Python 3"
    },
    "accelerator": "GPU"
  },
  "cells": [
    {
      "metadata": {
        "id": "DSzVAWePOqp1",
        "colab_type": "text"
      },
      "cell_type": "markdown",
      "source": [
        "**BUILDING A CNN FOR CIFAR 10 DATASET**\n",
        "\n"
      ]
    },
    {
      "metadata": {
        "id": "6L3AOl-A-RJP",
        "colab_type": "text"
      },
      "cell_type": "markdown",
      "source": [
        "**LOADING REQUIRED LIBRARIES**"
      ]
    },
    {
      "metadata": {
        "id": "23agsh9vDU6u",
        "colab_type": "code",
        "outputId": "768c8f86-aff4-4640-ea9e-7e3a09968244",
        "colab": {
          "base_uri": "https://localhost:8080/",
          "height": 34
        }
      },
      "cell_type": "code",
      "source": [
        "import keras as k \n",
        "from keras.datasets import cifar10\n",
        "from matplotlib import pyplot as p\n",
        "from keras.preprocessing.image import ImageDataGenerator\n",
        "from keras.models import Sequential\n",
        "from keras import optimizers\n",
        "from keras.layers import Dense, Dropout, Activation, Flatten,BatchNormalization\n",
        "from keras.layers import Conv2D, MaxPooling2D\n",
        "\n"
      ],
      "execution_count": 1,
      "outputs": [
        {
          "output_type": "stream",
          "text": [
            "Using TensorFlow backend.\n"
          ],
          "name": "stderr"
        }
      ]
    },
    {
      "metadata": {
        "id": "f4UjGiPz-gFL",
        "colab_type": "text"
      },
      "cell_type": "markdown",
      "source": [
        "**LOADING CIFAR 10 DATASET**"
      ]
    },
    {
      "metadata": {
        "id": "omKK-1JyDbJ3",
        "colab_type": "code",
        "outputId": "546a01b7-b4bd-429f-f31b-21c3434a490c",
        "colab": {
          "base_uri": "https://localhost:8080/",
          "height": 51
        }
      },
      "cell_type": "code",
      "source": [
        "# Load data\n",
        "(x_train, y_train), (x_test, y_test) = cifar10.load_data()"
      ],
      "execution_count": 2,
      "outputs": [
        {
          "output_type": "stream",
          "text": [
            "Downloading data from https://www.cs.toronto.edu/~kriz/cifar-10-python.tar.gz\n",
            "170500096/170498071 [==============================] - 40s 0us/step\n"
          ],
          "name": "stdout"
        }
      ]
    },
    {
      "metadata": {
        "id": "gHxoZyNg-jXV",
        "colab_type": "text"
      },
      "cell_type": "markdown",
      "source": [
        "**HYPERPARAMETERS SETTINGS USED FOR MODEL**"
      ]
    },
    {
      "metadata": {
        "id": "TwgAKOgdDe7I",
        "colab_type": "code",
        "colab": {}
      },
      "cell_type": "code",
      "source": [
        "# hyperparameter settings\n",
        "no_class = 10 \n",
        "batch_size = 64\n",
        "epoch = 25\n",
        "learning_rate = 0.0001\n"
      ],
      "execution_count": 0,
      "outputs": []
    },
    {
      "metadata": {
        "id": "rism-17I-yNo",
        "colab_type": "text"
      },
      "cell_type": "markdown",
      "source": [
        "**PREPROCESSING DATA**"
      ]
    },
    {
      "metadata": {
        "id": "BjxdyguYDfcl",
        "colab_type": "code",
        "colab": {}
      },
      "cell_type": "code",
      "source": [
        "# Data Preprocessing\n",
        "y_train = k.utils.to_categorical(y_train, no_class)\n",
        "y_test = k.utils.to_categorical(y_test, no_class)\n",
        "\n",
        "# pixel values range from 0 to 255 - normalize \n",
        "x_train = x_train.astype('float32')\n",
        "x_test = x_test.astype('float32')\n",
        "x_train  /= 255\n",
        "x_test /= 255\n"
      ],
      "execution_count": 0,
      "outputs": []
    },
    {
      "metadata": {
        "id": "ynDdTrsa_DkX",
        "colab_type": "text"
      },
      "cell_type": "markdown",
      "source": [
        "**MODEL CREATION:**\n",
        "\n",
        "**Layers Configuration: **\n",
        "\n",
        "*   Convolutional input layer: 64 feature maps with 3×3 size\n",
        "\n",
        "     Activation Function used: Relu\n",
        "\n",
        "*   Batch Normalization layer\n",
        "\n",
        "*   Convolutional input layer: 64 feature maps with 3×3 size\n",
        "\n",
        "     Activation Function used: Relu\n",
        "\n",
        "*  Batch Normalization layer\n",
        "\n",
        "*   Max Pool layer with size 2×2\n",
        "\n",
        "*   Drop out set to 25%\n",
        "\n",
        "*   Convolutional input layer: 64 feature maps with 3×3 size\n",
        "     \n",
        "     Activation Function used: Relu\n",
        "\n",
        "*   Batch Normalization layer\n",
        "\n",
        "*   Convolutional input layer: 64 feature maps with 3×3 size\n",
        "     \n",
        "     Activation Function used: Relu\n",
        "\n",
        "*   Batch Normalization layer\n",
        "\n",
        "*   Max Pool layer with size 2×2\n",
        "\n",
        "*   Drop out set to 30 %\n",
        "\n",
        "*   Flatten layer\n",
        "\n",
        "*   Fully connected layer with 512 units\n",
        "     \n",
        "     Activation Function used: Relu\n",
        "\n",
        "*   Dropout set to 25%\n",
        "\n",
        "*   Fully connected output layer with 10 units\n",
        "     \n",
        "     Activation Function used: Softmax\n",
        "\n",
        "\n",
        "\n",
        "\n",
        "\n",
        "\n",
        "      \n",
        "\n",
        "\n",
        "  "
      ]
    },
    {
      "metadata": {
        "id": "K-l7IilCDhil",
        "colab_type": "code",
        "colab": {}
      },
      "cell_type": "code",
      "source": [
        "def model_creation():\n",
        "  model = Sequential()\n",
        "  model.add(Conv2D(64, (3, 3), padding='same',input_shape=x_train.shape[1:]))\n",
        "  model.add(Activation('relu'))\n",
        "  model.add(BatchNormalization())\n",
        "  model.add(Conv2D(64, (3, 3)))\n",
        "  model.add(Activation('relu'))\n",
        "  model.add(BatchNormalization())\n",
        "  model.add(MaxPooling2D(pool_size=(2, 2)))\n",
        "  model.add(Dropout(0.25))\n",
        "  model.add(Conv2D(64, (3, 3), padding='same'))\n",
        "  model.add(Activation('relu'))\n",
        "  model.add(BatchNormalization())\n",
        "  model.add(Conv2D(64, (3, 3), padding='same'))\n",
        "  model.add(Activation('relu'))\n",
        "  model.add(BatchNormalization())\n",
        "  model.add(MaxPooling2D(pool_size=(2, 2)))\n",
        "  model.add(Dropout(.3))\n",
        "  model.add(Flatten())\n",
        "  model.add(Dense(512))\n",
        "  model.add(Activation('relu'))\n",
        "  model.add(Dropout(0.25))\n",
        "  model.add(Dense(no_class))\n",
        "  model.add(Activation('softmax'))\n",
        "  opt = optimizers.rmsprop(lr=learning_rate, decay=1e-6)\n",
        "  model.compile(loss='categorical_crossentropy', optimizer=opt,metrics=['accuracy'])\n",
        "  return model"
      ],
      "execution_count": 0,
      "outputs": []
    },
    {
      "metadata": {
        "id": "vTflSIyCDmdX",
        "colab_type": "code",
        "colab": {}
      },
      "cell_type": "code",
      "source": [
        "\n",
        "cnn_basemodel = model_creation() \n",
        "  "
      ],
      "execution_count": 0,
      "outputs": []
    },
    {
      "metadata": {
        "id": "FC6hlhf8Cu9A",
        "colab_type": "text"
      },
      "cell_type": "markdown",
      "source": [
        "**MODEL TRAINING **"
      ]
    },
    {
      "metadata": {
        "id": "S1AridqhDoTC",
        "colab_type": "code",
        "outputId": "48a54ae2-911b-4c02-b9d3-9bd9de9f0963",
        "colab": {
          "base_uri": "https://localhost:8080/",
          "height": 1071
        }
      },
      "cell_type": "code",
      "source": [
        "cnn_1 = cnn_basemodel.fit(x_train, y_train, batch_size=batch_size, epochs=epoch,validation_data=(x_test,y_test),shuffle=True)\n",
        "acc = cnn_basemodel.evaluate(x_test, y_test, verbose=1)"
      ],
      "execution_count": 35,
      "outputs": [
        {
          "output_type": "stream",
          "text": [
            "Train on 50000 samples, validate on 10000 samples\n",
            "Epoch 1/30\n",
            "50000/50000 [==============================] - 28s 560us/step - loss: 0.1323 - acc: 0.9558 - val_loss: 0.8345 - val_acc: 0.8236\n",
            "Epoch 2/30\n",
            "50000/50000 [==============================] - 28s 557us/step - loss: 0.1297 - acc: 0.9569 - val_loss: 0.7582 - val_acc: 0.8135\n",
            "Epoch 3/30\n",
            "50000/50000 [==============================] - 28s 557us/step - loss: 0.1244 - acc: 0.9579 - val_loss: 0.7985 - val_acc: 0.8151\n",
            "Epoch 4/30\n",
            "50000/50000 [==============================] - 28s 556us/step - loss: 0.1193 - acc: 0.9611 - val_loss: 0.8718 - val_acc: 0.8226\n",
            "Epoch 5/30\n",
            "50000/50000 [==============================] - 28s 557us/step - loss: 0.1246 - acc: 0.9592 - val_loss: 0.7888 - val_acc: 0.8241\n",
            "Epoch 6/30\n",
            "50000/50000 [==============================] - 28s 558us/step - loss: 0.1209 - acc: 0.9602 - val_loss: 0.7357 - val_acc: 0.8138\n",
            "Epoch 7/30\n",
            "50000/50000 [==============================] - 28s 558us/step - loss: 0.1205 - acc: 0.9609 - val_loss: 0.8066 - val_acc: 0.8027\n",
            "Epoch 8/30\n",
            "50000/50000 [==============================] - 28s 558us/step - loss: 0.1144 - acc: 0.9622 - val_loss: 0.6829 - val_acc: 0.8145\n",
            "Epoch 9/30\n",
            "50000/50000 [==============================] - 28s 557us/step - loss: 0.1126 - acc: 0.9628 - val_loss: 0.8255 - val_acc: 0.8205\n",
            "Epoch 10/30\n",
            "50000/50000 [==============================] - 28s 558us/step - loss: 0.1042 - acc: 0.9662 - val_loss: 0.7950 - val_acc: 0.8283\n",
            "Epoch 11/30\n",
            "50000/50000 [==============================] - 28s 557us/step - loss: 0.1051 - acc: 0.9657 - val_loss: 0.8567 - val_acc: 0.8218\n",
            "Epoch 12/30\n",
            "50000/50000 [==============================] - 28s 559us/step - loss: 0.1002 - acc: 0.9665 - val_loss: 0.8089 - val_acc: 0.8115\n",
            "Epoch 13/30\n",
            "50000/50000 [==============================] - 28s 559us/step - loss: 0.1058 - acc: 0.9653 - val_loss: 0.8384 - val_acc: 0.8221\n",
            "Epoch 14/30\n",
            "50000/50000 [==============================] - 28s 558us/step - loss: 0.1003 - acc: 0.9675 - val_loss: 0.7994 - val_acc: 0.8111\n",
            "Epoch 15/30\n",
            "50000/50000 [==============================] - 28s 556us/step - loss: 0.0952 - acc: 0.9691 - val_loss: 0.7235 - val_acc: 0.8250\n",
            "Epoch 16/30\n",
            "50000/50000 [==============================] - 28s 558us/step - loss: 0.0981 - acc: 0.9675 - val_loss: 1.0728 - val_acc: 0.7997\n",
            "Epoch 17/30\n",
            "50000/50000 [==============================] - 28s 558us/step - loss: 0.0940 - acc: 0.9687 - val_loss: 0.8185 - val_acc: 0.8160\n",
            "Epoch 18/30\n",
            "50000/50000 [==============================] - 28s 558us/step - loss: 0.0965 - acc: 0.9684 - val_loss: 0.9964 - val_acc: 0.8025\n",
            "Epoch 19/30\n",
            "50000/50000 [==============================] - 28s 558us/step - loss: 0.0902 - acc: 0.9693 - val_loss: 0.8017 - val_acc: 0.8212\n",
            "Epoch 20/30\n",
            "50000/50000 [==============================] - 28s 558us/step - loss: 0.0931 - acc: 0.9690 - val_loss: 0.7732 - val_acc: 0.8076\n",
            "Epoch 21/30\n",
            "50000/50000 [==============================] - 28s 559us/step - loss: 0.0914 - acc: 0.9704 - val_loss: 0.8369 - val_acc: 0.8166\n",
            "Epoch 22/30\n",
            "50000/50000 [==============================] - 28s 557us/step - loss: 0.0906 - acc: 0.9703 - val_loss: 1.1054 - val_acc: 0.7731\n",
            "Epoch 23/30\n",
            "50000/50000 [==============================] - 28s 557us/step - loss: 0.0916 - acc: 0.9702 - val_loss: 0.7785 - val_acc: 0.8201\n",
            "Epoch 24/30\n",
            "50000/50000 [==============================] - 28s 558us/step - loss: 0.0886 - acc: 0.9718 - val_loss: 0.8611 - val_acc: 0.8264\n",
            "Epoch 25/30\n",
            "50000/50000 [==============================] - 28s 559us/step - loss: 0.0898 - acc: 0.9701 - val_loss: 0.7754 - val_acc: 0.8267\n",
            "Epoch 26/30\n",
            "50000/50000 [==============================] - 28s 558us/step - loss: 0.0808 - acc: 0.9729 - val_loss: 0.8114 - val_acc: 0.8228\n",
            "Epoch 27/30\n",
            "50000/50000 [==============================] - 28s 560us/step - loss: 0.0843 - acc: 0.9733 - val_loss: 0.9371 - val_acc: 0.8110\n",
            "Epoch 28/30\n",
            "50000/50000 [==============================] - 28s 560us/step - loss: 0.0864 - acc: 0.9724 - val_loss: 0.8200 - val_acc: 0.8255\n",
            "Epoch 29/30\n",
            "50000/50000 [==============================] - 28s 561us/step - loss: 0.0830 - acc: 0.9741 - val_loss: 0.8241 - val_acc: 0.8210\n",
            "Epoch 30/30\n",
            "50000/50000 [==============================] - 28s 560us/step - loss: 0.0799 - acc: 0.9740 - val_loss: 0.9156 - val_acc: 0.8199\n",
            "10000/10000 [==============================] - 2s 187us/step\n"
          ],
          "name": "stdout"
        }
      ]
    },
    {
      "metadata": {
        "id": "PuNwzUrtC_OJ",
        "colab_type": "text"
      },
      "cell_type": "markdown",
      "source": [
        "**PERFORMANCE METRICS:**\n",
        "\n",
        "*   Model Accuracy\n",
        "*   Model Loss"
      ]
    },
    {
      "metadata": {
        "id": "qpDyzDNIDt2F",
        "colab_type": "code",
        "colab": {}
      },
      "cell_type": "code",
      "source": [
        "def plot_modelacc(fit_model):\n",
        "    with p.style.context('ggplot'):\n",
        "            p.plot(fit_model.history['acc'])\n",
        "            p.plot(fit_model.history['val_acc'])\n",
        "            p.title(\"MODEL ACCURACY\")\n",
        "            p.xlabel(\"# of EPOCHS\")\n",
        "            p.ylabel(\"ACCURACY\")\n",
        "            p.legend(['train', 'test'], loc='upper left')\n",
        "    return p.show()"
      ],
      "execution_count": 0,
      "outputs": []
    },
    {
      "metadata": {
        "id": "bd58lWDWDuTe",
        "colab_type": "code",
        "colab": {}
      },
      "cell_type": "code",
      "source": [
        "def plot_model_loss(fit_model):\n",
        "    with p.style.context('ggplot'):\n",
        "            p.plot(fit_model.history['loss'])\n",
        "            p.plot(fit_model.history['val_loss'])\n",
        "            p.title(\"MODEL LOSS\")\n",
        "            p.xlabel(\"# of EPOCHS\")\n",
        "            p.ylabel(\"LOSS\")\n",
        "            p.legend(['train', 'test'], loc='upper left')\n",
        "    return p.show()\n"
      ],
      "execution_count": 0,
      "outputs": []
    },
    {
      "metadata": {
        "id": "sQBqKaoTDv7O",
        "colab_type": "code",
        "outputId": "bbd5ef13-c28a-46dd-f85d-5397a515c08f",
        "colab": {
          "base_uri": "https://localhost:8080/",
          "height": 743
        }
      },
      "cell_type": "code",
      "source": [
        "plot_modelacc(cnn_1)\n",
        "plot_model_loss(cnn_1)"
      ],
      "execution_count": 33,
      "outputs": [
        {
          "output_type": "display_data",
          "data": {
            "image/png": "[encoded data removed]",
            "text/plain": [
              "<Figure size 576x396 with 1 Axes>"
            ]
          },
          "metadata": {
            "tags": []
          }
        },
        {
          "output_type": "display_data",
          "data": {
            "image/png": "[encoded data removed]",
            "text/plain": [
              "<Figure size 576x396 with 1 Axes>"
            ]
          },
          "metadata": {
            "tags": []
          }
        }
      ]
    },
    {
      "metadata": {
        "id": "Ubg1qb8MNK54",
        "colab_type": "code",
        "outputId": "f474aa6b-26ff-4b32-eb5d-d83cb6abcb86",
        "colab": {
          "base_uri": "https://localhost:8080/",
          "height": 51
        }
      },
      "cell_type": "code",
      "source": [
        "print('Test data loss:', acc[0] )\n",
        "print('Test data accuracy:', acc[1] * 100)"
      ],
      "execution_count": 34,
      "outputs": [
        {
          "output_type": "stream",
          "text": [
            "Test data loss: 0.7643361328601838\n",
            "Test data accuracy: 80.95\n"
          ],
          "name": "stdout"
        }
      ]
    },
    {
      "metadata": {
        "id": "-ATjnciGY3Qy",
        "colab_type": "code",
        "colab": {
          "base_uri": "https://localhost:8080/",
          "height": 391
        },
        "outputId": "b6603bd9-321d-4782-f984-f9f8d5f62333"
      },
      "cell_type": "code",
      "source": [
        "cnn_basemodel.layers\n"
      ],
      "execution_count": 36,
      "outputs": [
        {
          "output_type": "execute_result",
          "data": {
            "text/plain": [
              "[<keras.layers.convolutional.Conv2D at 0x7f04a08bc630>,\n",
              " <keras.layers.core.Activation at 0x7f04a093be80>,\n",
              " <keras.layers.normalization.BatchNormalization at 0x7f04a093beb8>,\n",
              " <keras.layers.convolutional.Conv2D at 0x7f04a091cdd8>,\n",
              " <keras.layers.core.Activation at 0x7f04a0822780>,\n",
              " <keras.layers.normalization.BatchNormalization at 0x7f04a08af978>,\n",
              " <keras.layers.pooling.MaxPooling2D at 0x7f04a087cf60>,\n",
              " <keras.layers.core.Dropout at 0x7f04a0796e80>,\n",
              " <keras.layers.convolutional.Conv2D at 0x7f04a0796d68>,\n",
              " <keras.layers.core.Activation at 0x7f04a06ec240>,\n",
              " <keras.layers.normalization.BatchNormalization at 0x7f04a06ec5f8>,\n",
              " <keras.layers.convolutional.Conv2D at 0x7f04a06ec1d0>,\n",
              " <keras.layers.core.Activation at 0x7f04a064ee10>,\n",
              " <keras.layers.normalization.BatchNormalization at 0x7f04a064ecc0>,\n",
              " <keras.layers.pooling.MaxPooling2D at 0x7f04a060af98>,\n",
              " <keras.layers.core.Dropout at 0x7f04a05a5a20>,\n",
              " <keras.layers.core.Flatten at 0x7f04a05a57f0>,\n",
              " <keras.layers.core.Dense at 0x7f04a05c5f28>,\n",
              " <keras.layers.core.Activation at 0x7f04a049df28>,\n",
              " <keras.layers.core.Dropout at 0x7f04a049df60>,\n",
              " <keras.layers.core.Dense at 0x7f04a049df98>,\n",
              " <keras.layers.core.Activation at 0x7f04a04c5ef0>]"
            ]
          },
          "metadata": {
            "tags": []
          },
          "execution_count": 36
        }
      ]
    }
  ]
}